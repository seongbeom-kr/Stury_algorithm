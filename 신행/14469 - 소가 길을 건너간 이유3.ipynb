{
 "cells": [
  {
   "cell_type": "code",
   "execution_count": 1,
   "id": "52e05e18",
   "metadata": {},
   "outputs": [
    {
     "name": "stdout",
     "output_type": "stream",
     "text": [
      "3\n",
      "2 1\n",
      "8 3\n",
      "6 4\n",
      "13\n"
     ]
    }
   ],
   "source": [
    "n = int(input())\n",
    "\n",
    "arrives = []\n",
    "tt = 0 # 총 소요 시간\n",
    "\n",
    "for _ in range(n):\n",
    "    a, b = map(int, input().split())\n",
    "    arrives.append([a,b])\n",
    "\n",
    "arrives.sort() # 정렬\n",
    "\n",
    "for i in range(len(arrives)):\n",
    "    # 다음 소 도착 전에 앞의 소가 검문이 끝난 경우\n",
    "    if tt > arrives[i][0]:\n",
    "        tt = tt + arrives[i][1]\n",
    "    # 다음 소 도착 전에 아직 검문 안끝난 경우 (검문 종료 전 도착, tt <= arrives[0]+arrives[1])\n",
    "    else:\n",
    "        tt = arrives[i][0] + arrives[i][1]\n",
    "        \n",
    "print(tt)"
   ]
  },
  {
   "cell_type": "code",
   "execution_count": 20,
   "id": "2b90fb8e",
   "metadata": {},
   "outputs": [
    {
     "data": {
      "text/plain": [
       "12"
      ]
     },
     "execution_count": 20,
     "metadata": {},
     "output_type": "execute_result"
    }
   ],
   "source": [
    "tt"
   ]
  },
  {
   "cell_type": "code",
   "execution_count": null,
   "id": "9ff195b6",
   "metadata": {},
   "outputs": [],
   "source": []
  }
 ],
 "metadata": {
  "kernelspec": {
   "display_name": "Python 3 (ipykernel)",
   "language": "python",
   "name": "python3"
  },
  "language_info": {
   "codemirror_mode": {
    "name": "ipython",
    "version": 3
   },
   "file_extension": ".py",
   "mimetype": "text/x-python",
   "name": "python",
   "nbconvert_exporter": "python",
   "pygments_lexer": "ipython3",
   "version": "3.8.5"
  }
 },
 "nbformat": 4,
 "nbformat_minor": 5
}
