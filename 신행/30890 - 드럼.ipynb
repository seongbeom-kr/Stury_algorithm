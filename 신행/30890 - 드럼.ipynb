{
 "cells": [
  {
   "cell_type": "code",
   "execution_count": 43,
   "id": "ce6bb0a6",
   "metadata": {},
   "outputs": [
    {
     "name": "stdout",
     "output_type": "stream",
     "text": [
      "4 2\n",
      "1313"
     ]
    }
   ],
   "source": [
    "x, y = map(int, input().split())\n",
    "\n",
    "drum = []\n",
    "a = []\n",
    "b = []\n",
    "\n",
    "for i in range(x):\n",
    "    a.append((i+1)/x)\n",
    "for i in range(y):\n",
    "    b.append((i+1)/y)\n",
    "    \n",
    "total = list(set(a).union(set(b)))\n",
    "total.sort()\n",
    "\n",
    "for i in range(len(total)):\n",
    "    if total[i] in a and total[i] in b:\n",
    "        drum.append(3)\n",
    "    elif total[i] in a:\n",
    "        drum.append(1)\n",
    "    else:\n",
    "        drum.append(2)\n",
    "    \n",
    "for num in drum:\n",
    "    print(num,end='')"
   ]
  },
  {
   "cell_type": "code",
   "execution_count": 44,
   "id": "87d5baa7",
   "metadata": {},
   "outputs": [
    {
     "data": {
      "text/plain": [
       "[1, 3, 1, 3]"
      ]
     },
     "execution_count": 44,
     "metadata": {},
     "output_type": "execute_result"
    }
   ],
   "source": [
    "drum"
   ]
  },
  {
   "cell_type": "code",
   "execution_count": null,
   "id": "3014e606",
   "metadata": {},
   "outputs": [],
   "source": []
  }
 ],
 "metadata": {
  "kernelspec": {
   "display_name": "Python 3 (ipykernel)",
   "language": "python",
   "name": "python3"
  },
  "language_info": {
   "codemirror_mode": {
    "name": "ipython",
    "version": 3
   },
   "file_extension": ".py",
   "mimetype": "text/x-python",
   "name": "python",
   "nbconvert_exporter": "python",
   "pygments_lexer": "ipython3",
   "version": "3.8.5"
  }
 },
 "nbformat": 4,
 "nbformat_minor": 5
}
