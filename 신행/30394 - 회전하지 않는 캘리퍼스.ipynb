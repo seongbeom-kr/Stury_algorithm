{
 "cells": [
  {
   "cell_type": "code",
   "execution_count": 2,
   "id": "20ab66da",
   "metadata": {},
   "outputs": [
    {
     "name": "stdout",
     "output_type": "stream",
     "text": [
      "3\n",
      "1 2\n",
      "2 5\n",
      "4 2\n",
      "3\n"
     ]
    }
   ],
   "source": [
    "# 글은 장황한데, 결국에는 y의 최대 - y의 최소\n",
    "\n",
    "# 점의 수\n",
    "n = int(input())\n",
    "\n",
    "max_y = -9999999999999999999\n",
    "min_y = 99999999999999999999\n",
    "# 각 점 좌표\n",
    "for _ in range(n):\n",
    "    x, y = map(int, input().split())\n",
    "    \n",
    "    max_y = max(y, max_y)\n",
    "    min_y = min(y, min_y)\n",
    "    \n",
    "print(max_y - min_y)"
   ]
  },
  {
   "cell_type": "code",
   "execution_count": null,
   "id": "3611126b",
   "metadata": {},
   "outputs": [],
   "source": []
  }
 ],
 "metadata": {
  "kernelspec": {
   "display_name": "Python 3 (ipykernel)",
   "language": "python",
   "name": "python3"
  },
  "language_info": {
   "codemirror_mode": {
    "name": "ipython",
    "version": 3
   },
   "file_extension": ".py",
   "mimetype": "text/x-python",
   "name": "python",
   "nbconvert_exporter": "python",
   "pygments_lexer": "ipython3",
   "version": "3.8.5"
  }
 },
 "nbformat": 4,
 "nbformat_minor": 5
}
